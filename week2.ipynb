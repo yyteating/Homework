{
 "cells": [
  {
   "cell_type": "markdown",
   "metadata": {},
   "source": [
    "1. 编写 Python 程序，求两个正整数的最大公约数。"
   ]
  },
  {
   "cell_type": "code",
   "execution_count": 1,
   "metadata": {},
   "outputs": [
    {
     "name": "stdout",
     "output_type": "stream",
     "text": [
      "最大公约数是: 2\n"
     ]
    }
   ],
   "source": [
    "a = int(input(\"第一个正整数: \"))\n",
    "b = int(input(\"第二个正整数: \"))\n",
    "\n",
    "while b:\n",
    "    a, b = b, a % b\n",
    "\n",
    "print(\"最大公约数是:\", a)"
   ]
  },
  {
   "cell_type": "markdown",
   "metadata": {},
   "source": [
    "2. 用if语句实现百分制转等级制（考试成绩，60分以下不合格，60—74分合格，75—89分为良好，90分以上为优秀）"
   ]
  },
  {
   "cell_type": "code",
   "execution_count": 2,
   "metadata": {},
   "outputs": [
    {
     "name": "stdout",
     "output_type": "stream",
     "text": [
      "合格\n"
     ]
    }
   ],
   "source": [
    "score = int(input(\"输入考试成绩: \"))\n",
    "\n",
    "if score < 60:\n",
    "    print(\"不合格\")\n",
    "elif 60 <= score < 75:\n",
    "    print(\"合格\")\n",
    "elif 75 <= score < 90:\n",
    "    print(\"良好\")\n",
    "else:\n",
    "    print(\"优秀\")"
   ]
  },
  {
   "cell_type": "markdown",
   "metadata": {},
   "source": [
    "3. 编写Python程序，完成十进制小数到二进制小数的转换"
   ]
  },
  {
   "cell_type": "code",
   "execution_count": 3,
   "metadata": {},
   "outputs": [
    {
     "name": "stdout",
     "output_type": "stream",
     "text": [
      "二进制表示为: 1110.00\n"
     ]
    }
   ],
   "source": [
    "ecimal_num = float(input(\"请输入一个十进制小数: \"))\n",
    "precision = int(input(\"请输入转换精度（小数位数）: \"))\n",
    "\n",
    "integer_part = int(decimal_num)\n",
    "fractional_part = decimal_num - integer_part\n",
    "\n",
    "binary_integer = bin(integer_part).replace(\"0b\", \"\")\n",
    "\n",
    "binary_fractional = \"\"\n",
    "while precision:\n",
    "    fractional_part *= 2\n",
    "    bit = int(fractional_part)\n",
    "    if bit == 1:\n",
    "        fractional_part -= bit\n",
    "        binary_fractional += '1'\n",
    "    else:\n",
    "        binary_fractional += '0'\n",
    "    precision -= 1\n",
    "\n",
    "print(f\"二进制表示为: {binary_integer}.{binary_fractional}\")"
   ]
  },
  {
   "cell_type": "markdown",
   "metadata": {},
   "source": [
    "4. 编写Python程序，产生10-20的随机浮点数"
   ]
  },
  {
   "cell_type": "code",
   "execution_count": 5,
   "metadata": {},
   "outputs": [
    {
     "name": "stdout",
     "output_type": "stream",
     "text": [
      "随机浮点数为: 15.394083500160038\n"
     ]
    }
   ],
   "source": [
    "import random\n",
    "\n",
    "start = 10\n",
    "end = 20\n",
    "\n",
    "random_float = random.uniform(start, end)\n",
    "print(f\"随机浮点数为: {random_float}\")"
   ]
  },
  {
   "cell_type": "markdown",
   "metadata": {},
   "source": [
    "5. 编写一个Python函数，判断一个整数是否是回文数。回文数是指正序（从左向右）和倒序（从右向左）读都是一样的数。"
   ]
  },
  {
   "cell_type": "code",
   "execution_count": 6,
   "metadata": {},
   "outputs": [
    {
     "name": "stdout",
     "output_type": "stream",
     "text": [
      "121 是回文数\n"
     ]
    }
   ],
   "source": [
    "num = int(input(\"请输入一个整数: \"))\n",
    "\n",
    "str_num = str(num)\n",
    "if str_num == str_num[::-1]:\n",
    "    print(f\"{num} 是回文数\")\n",
    "else:\n",
    "    print(f\"{num} 不是回文数\")"
   ]
  },
  {
   "cell_type": "markdown",
   "metadata": {},
   "source": [
    "6.编写一个Python函数，返回一个包含斐波那契数列的前N个数的列表。斐波那契数列是一个数列，其中每个数是前两个数的和，数列以0和1开始。"
   ]
  },
  {
   "cell_type": "code",
   "execution_count": 7,
   "metadata": {},
   "outputs": [
    {
     "name": "stdout",
     "output_type": "stream",
     "text": [
      "斐波那契数列前 19 个数: [0, 1, 1, 2, 3, 5, 8, 13, 21, 34, 55, 89, 144, 233, 377, 610, 987, 1597, 2584]\n"
     ]
    }
   ],
   "source": [
    "n = int(input(\"请输入斐波那契数列的项数 N: \"))\n",
    "\n",
    "if n <= 0:\n",
    "    sequence = []\n",
    "elif n == 1:\n",
    "    sequence = [0]\n",
    "elif n == 2:\n",
    "    sequence = [0, 1]\n",
    "else:\n",
    "    sequence = [0, 1]\n",
    "    for i in range(2, n):\n",
    "        sequence.append(sequence[-1] + sequence[-2])\n",
    "\n",
    "print(\"斐波那契数列前\", n, \"个数:\", sequence)"
   ]
  },
  {
   "cell_type": "markdown",
   "metadata": {},
   "source": [
    "7.编写一个Python函数，接受一个整数数组作为输入，返回数组中第二大的数。如果数组中只有一个元素或数组为空，则返回-1。"
   ]
  },
  {
   "cell_type": "code",
   "execution_count": 8,
   "metadata": {},
   "outputs": [
    {
     "name": "stdout",
     "output_type": "stream",
     "text": [
      "数组中第二大的数是: 6\n"
     ]
    }
   ],
   "source": [
    "arr = list(map(int, input(\"请输入一个整数数组（用空格分隔每个数）: \").split()))\n",
    "\n",
    "if len(arr) < 2:\n",
    "    second_largest = -1\n",
    "else:\n",
    "    first, second = float('-inf'), float('-inf')\n",
    "    for num in arr:\n",
    "        if num > first:\n",
    "            first, second = num, first\n",
    "        elif first > num > second:\n",
    "            second = num\n",
    "    second_largest = second if second != float('-inf') else -1\n",
    "\n",
    "print(\"数组中第二大的数是:\", second_largest)"
   ]
  },
  {
   "cell_type": "markdown",
   "metadata": {},
   "source": [
    "8. 编写一个函数，使其能够用正则表达式的方式简单验证身份证号是否合法。"
   ]
  },
  {
   "cell_type": "code",
   "execution_count": 9,
   "metadata": {},
   "outputs": [
    {
     "name": "stdout",
     "output_type": "stream",
     "text": [
      "身份证号 320681200407300024 合法\n"
     ]
    }
   ],
   "source": [
    "import re\n",
    "\n",
    "# 输入身份证号\n",
    "id_number = input(\"请输入身份证号: \")\n",
    "\n",
    "# 设置正则表达式模式进行匹配验证\n",
    "pattern = r\"^[1-9]\\d{5}(19|20)\\d{2}(0[1-9]|1[0-2])(0[1-9]|[1-2]\\d|3[0-1])\\d{3}(\\d|X|x)$\"\n",
    "if re.match(pattern, id_number):\n",
    "    print(f\"身份证号 {id_number} 合法\")\n",
    "else:\n",
    "    print(f\"身份证号 {id_number} 不合法\")"
   ]
  }
 ],
 "metadata": {
  "kernelspec": {
   "display_name": "Python 3",
   "language": "python",
   "name": "python3"
  },
  "language_info": {
   "codemirror_mode": {
    "name": "ipython",
    "version": 3
   },
   "file_extension": ".py",
   "mimetype": "text/x-python",
   "name": "python",
   "nbconvert_exporter": "python",
   "pygments_lexer": "ipython3",
   "version": "3.9.13"
  }
 },
 "nbformat": 4,
 "nbformat_minor": 2
}
