{
 "cells": [
  {
   "cell_type": "code",
   "execution_count": null,
   "metadata": {},
   "outputs": [],
   "source": [
    "w = float(input(\"第一个数: \"))\n",
    "x = float(input(\"第二个数: \"))\n",
    "y = float(input(\"第三个数: \"))\n",
    "z = float(input(\"第四个数: \"))\n",
    "\n",
    "numbers = [w, x, y, z]\n",
    "numbers.sort(reverse=True)\n",
    "print(\"排序后:\", numbers)"
   ]
  }
 ],
 "metadata": {
  "language_info": {
   "name": "python"
  }
 },
 "nbformat": 4,
 "nbformat_minor": 2
}
